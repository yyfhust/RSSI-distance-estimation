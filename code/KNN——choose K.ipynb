{
 "cells": [
  {
   "cell_type": "code",
   "execution_count": 105,
   "metadata": {},
   "outputs": [],
   "source": [
    "import numpy as np\n",
    "import pandas as pd\n",
    "import scipy as sp\n",
    "import math\n",
    "from sklearn import tree\n",
    "from sklearn.metrics import precision_recall_curve\n",
    "from sklearn.metrics import classification_report\n",
    "from sklearn.cross_validation import train_test_split\n",
    "import csv\n",
    "from sklearn.model_selection import cross_val_score\n",
    "from sklearn.model_selection import cross_val_predict\n",
    "from sklearn.neighbors import KNeighborsClassifier"
   ]
  },
  {
   "cell_type": "code",
   "execution_count": 106,
   "metadata": {},
   "outputs": [],
   "source": [
    "csv_data = pd.read_csv(\"test&train_data.csv\")  # 读取训练数据"
   ]
  },
  {
   "cell_type": "code",
   "execution_count": 107,
   "metadata": {},
   "outputs": [],
   "source": [
    "train_data=csv_data.iloc[0:2100,:]\n",
    "test_data=csv_data.iloc[2100:3000,:]"
   ]
  },
  {
   "cell_type": "code",
   "execution_count": 108,
   "metadata": {},
   "outputs": [],
   "source": [
    "\n",
    "\n",
    "t1=train_data.iloc[0:99,:]\n",
    "t2=train_data.iloc[100:199,:]\n",
    "t3=train_data.iloc[200:299,:]\n",
    "t4=train_data.iloc[300:399,:]\n",
    "t5=train_data.iloc[400:499,:]\n",
    "t6=train_data.iloc[500:599,:]\n",
    "t7=train_data.iloc[600:699,:]\n",
    "t8=train_data.iloc[700:799,:]\n",
    "t9=train_data.iloc[800:899,:]\n",
    "t10=train_data.iloc[900:999,:]\n",
    "t11=train_data.iloc[1000:1099,:]\n",
    "t12=train_data.iloc[1100:1199,:]\n",
    "t13=train_data.iloc[1200:1299,:]\n",
    "t14=train_data.iloc[1300:1399,:]\n",
    "t15=train_data.iloc[1400:1499,:]\n",
    "t16=train_data.iloc[1500:1599,:]\n",
    "t17=train_data.iloc[1600:1699,:]\n",
    "t18=train_data.iloc[1700:1799,:]\n",
    "t19=train_data.iloc[1800:1899,:]\n",
    "t20=train_data.iloc[1900:1999,:]\n",
    "t21=train_data.iloc[2000:2099,:]\n",
    "\n",
    "\n",
    "vector1=t1.describe().iloc[[1,2,3,7],:].T.values\n",
    "vector2=t2.describe().iloc[[1,2,3,7],:].T.values\n",
    "vector3=t3.describe().iloc[[1,2,3,7],:].T.values\n",
    "vector4=t4.describe().iloc[[1,2,3,7],:].T.values\n",
    "vector5=t5.describe().iloc[[1,2,3,7],:].T.values\n",
    "vector6=t6.describe().iloc[[1,2,3,7],:].T.values\n",
    "vector7=t7.describe().iloc[[1,2,3,7],:].T.values\n",
    "vector8=t8.describe().iloc[[1,2,3,7],:].T.values\n",
    "vector9=t9.describe().iloc[[1,2,3,7],:].T.values\n",
    "vector10=t10.describe().iloc[[1,2,3,7],:].T.values\n",
    "vector11=t11.describe().iloc[[1,2,3,7],:].T.values\n",
    "vector12=t12.describe().iloc[[1,2,3,7],:].T.values\n",
    "vector13=t13.describe().iloc[[1,2,3,7],:].T.values\n",
    "vector14=t14.describe().iloc[[1,2,3,7],:].T.values\n",
    "vector15=t15.describe().iloc[[1,2,3,7],:].T.values\n",
    "vector16=t16.describe().iloc[[1,2,3,7],:].T.values\n",
    "vector17=t17.describe().iloc[[1,2,3,7],:].T.values\n",
    "vector18=t18.describe().iloc[[1,2,3,7],:].T.values\n",
    "vector19=t19.describe().iloc[[1,2,3,7],:].T.values\n",
    "vector20=t20.describe().iloc[[1,2,3,7],:].T.values\n",
    "vector21=t21.describe().iloc[[1,2,3,7],:].T.values\n",
    "x1=np.vstack((vector1,vector2))\n",
    "x2=np.vstack((x1,vector3))\n",
    "x3=np.vstack((x2,vector4))\n",
    "x4=np.vstack((x3,vector5))\n",
    "x5=np.vstack((x4,vector6))\n",
    "x6=np.vstack((x5,vector7))\n",
    "x7=np.vstack((x6,vector8))\n",
    "x8=np.vstack((x7,vector9))\n",
    "x9=np.vstack((x8,vector10))\n",
    "x10=np.vstack((x9,vector11))\n",
    "x11=np.vstack((x10,vector12))\n",
    "x12=np.vstack((x11,vector13))\n",
    "x13=np.vstack((x12,vector14))\n",
    "x14=np.vstack((x13,vector15))\n",
    "x15=np.vstack((x14,vector16))\n",
    "x16=np.vstack((x15,vector17))\n",
    "x17=np.vstack((x16,vector18))\n",
    "x18=np.vstack((x17,vector19))\n",
    "x19=np.vstack((x18,vector20))\n",
    "train_vectors=np.vstack((x19,vector21))\n",
    "\n",
    "y=list(range(0,21))*21\n",
    "train_catagory=np.array(y)"
   ]
  },
  {
   "cell_type": "code",
   "execution_count": null,
   "metadata": {},
   "outputs": [],
   "source": []
  },
  {
   "cell_type": "code",
   "execution_count": 109,
   "metadata": {},
   "outputs": [],
   "source": [
    "t_vector1=test_data.iloc[0:99,:].describe().iloc[[1,2,3,7],:].T.values\n",
    "t_vector2=test_data.iloc[100:199,:].describe().iloc[[1,2,3,7],:].T.values\n",
    "t_vector3=test_data.iloc[200:299,:].describe().iloc[[1,2,3,7],:].T.values\n",
    "t_vector4=test_data.iloc[300:399,:].describe().iloc[[1,2,3,7],:].T.values\n",
    "t_vector5=test_data.iloc[400:499,:].describe().iloc[[1,2,3,7],:].T.values\n",
    "t_vector6=test_data.iloc[500:599,:].describe().iloc[[1,2,3,7],:].T.values\n",
    "t_vector7=test_data.iloc[600:699,:].describe().iloc[[1,2,3,7],:].T.values\n",
    "t_vector8=test_data.iloc[700:799,:].describe().iloc[[1,2,3,7],:].T.values\n",
    "t_vector9=test_data.iloc[800:899,:].describe().iloc[[1,2,3,7],:].T.values\n",
    "\n",
    "\n",
    "\n",
    "x1=np.vstack((t_vector1,t_vector2))\n",
    "x2=np.vstack((x1,t_vector3))\n",
    "x3=np.vstack((x2,t_vector4))\n",
    "x4=np.vstack((x3,t_vector5))\n",
    "x5=np.vstack((x4,t_vector6))\n",
    "x6=np.vstack((x5,t_vector7))\n",
    "x7=np.vstack((x6,t_vector8))\n",
    "\n",
    "test_vectors=np.vstack((x7,t_vector9))\n",
    "\n",
    "y=list(range(0,21))*9\n",
    "test_catagory=np.array(y)"
   ]
  },
  {
   "cell_type": "code",
   "execution_count": 110,
   "metadata": {},
   "outputs": [],
   "source": [
    "cross_validation_vector=np.vstack((train_vectors,test_vectors))\n",
    "cross_validation_catagory=np.array(list(range(0,21))*20+list(range(0,21))*10)"
   ]
  },
  {
   "cell_type": "code",
   "execution_count": 111,
   "metadata": {},
   "outputs": [
    {
     "data": {
      "text/plain": [
       "array([[-24.65656566,   3.32940399, -32.        , -18.        ],\n",
       "       [-38.47474747,   2.55687722, -44.        , -34.        ],\n",
       "       [-38.76767677,   0.75360742, -41.        , -37.        ],\n",
       "       ...,\n",
       "       [-57.24242424,   4.05344628, -64.        , -50.        ],\n",
       "       [-54.45454545,   1.02292824, -62.        , -53.        ],\n",
       "       [-56.50505051,   2.62007064, -79.        , -55.        ]])"
      ]
     },
     "execution_count": 111,
     "metadata": {},
     "output_type": "execute_result"
    }
   ],
   "source": [
    "train_vectors"
   ]
  },
  {
   "cell_type": "code",
   "execution_count": 112,
   "metadata": {},
   "outputs": [],
   "source": [
    "errors=[]\n",
    "per_errors=[]\n",
    "for k in range(2,30):\n",
    "    f=KNeighborsClassifier(n_neighbors=k)\n",
    "    f.fit(train_vectors,train_catagory)\n",
    "    prediction=f.predict(test_vectors)\n",
    "    distance_error=sum(abs(prediction-test_catagory)*0.5)/189\n",
    "    per_distance_error=sum(   np.true_divide(abs(prediction-test_catagory),test_catagory+0.00000001)   )   /    189\n",
    "    errors.append(distance_error)\n",
    "    per_errors.append(per_distance_error)"
   ]
  },
  {
   "cell_type": "code",
   "execution_count": 113,
   "metadata": {},
   "outputs": [
    {
     "data": {
      "text/plain": [
       "array([[-24.65656566,   3.32940399, -32.        , -18.        ],\n",
       "       [-38.47474747,   2.55687722, -44.        , -34.        ],\n",
       "       [-38.76767677,   0.75360742, -41.        , -37.        ],\n",
       "       ...,\n",
       "       [-57.24242424,   4.05344628, -64.        , -50.        ],\n",
       "       [-54.45454545,   1.02292824, -62.        , -53.        ],\n",
       "       [-56.50505051,   2.62007064, -79.        , -55.        ]])"
      ]
     },
     "execution_count": 113,
     "metadata": {},
     "output_type": "execute_result"
    }
   ],
   "source": [
    "train_vectors"
   ]
  },
  {
   "cell_type": "code",
   "execution_count": 114,
   "metadata": {},
   "outputs": [
    {
     "data": {
      "text/plain": [
       "array([ 0,  1,  2,  3,  4,  5,  6,  7,  8,  9, 10, 11, 12, 13, 14, 15, 16,\n",
       "       17, 18, 19, 20,  0,  1,  2,  3,  4,  5,  6,  7,  8,  9, 10, 11, 12,\n",
       "       13, 14, 15, 16, 17, 18, 19, 20,  0,  1,  2,  3,  4,  5,  6,  7,  8,\n",
       "        9, 10, 11, 12, 13, 14, 15, 16, 17, 18, 19, 20,  0,  1,  2,  3,  4,\n",
       "        5,  6,  7,  8,  9, 10, 11, 12, 13, 14, 15, 16, 17, 18, 19, 20,  0,\n",
       "        1,  2,  3,  4,  5,  6,  7,  8,  9, 10, 11, 12, 13, 14, 15, 16, 17,\n",
       "       18, 19, 20,  0,  1,  2,  3,  4,  5,  6,  7,  8,  9, 10, 11, 12, 13,\n",
       "       14, 15, 16, 17, 18, 19, 20,  0,  1,  2,  3,  4,  5,  6,  7,  8,  9,\n",
       "       10, 11, 12, 13, 14, 15, 16, 17, 18, 19, 20,  0,  1,  2,  3,  4,  5,\n",
       "        6,  7,  8,  9, 10, 11, 12, 13, 14, 15, 16, 17, 18, 19, 20,  0,  1,\n",
       "        2,  3,  4,  5,  6,  7,  8,  9, 10, 11, 12, 13, 14, 15, 16, 17, 18,\n",
       "       19, 20,  0,  1,  2,  3,  4,  5,  6,  7,  8,  9, 10, 11, 12, 13, 14,\n",
       "       15, 16, 17, 18, 19, 20,  0,  1,  2,  3,  4,  5,  6,  7,  8,  9, 10,\n",
       "       11, 12, 13, 14, 15, 16, 17, 18, 19, 20,  0,  1,  2,  3,  4,  5,  6,\n",
       "        7,  8,  9, 10, 11, 12, 13, 14, 15, 16, 17, 18, 19, 20,  0,  1,  2,\n",
       "        3,  4,  5,  6,  7,  8,  9, 10, 11, 12, 13, 14, 15, 16, 17, 18, 19,\n",
       "       20,  0,  1,  2,  3,  4,  5,  6,  7,  8,  9, 10, 11, 12, 13, 14, 15,\n",
       "       16, 17, 18, 19, 20,  0,  1,  2,  3,  4,  5,  6,  7,  8,  9, 10, 11,\n",
       "       12, 13, 14, 15, 16, 17, 18, 19, 20,  0,  1,  2,  3,  4,  5,  6,  7,\n",
       "        8,  9, 10, 11, 12, 13, 14, 15, 16, 17, 18, 19, 20,  0,  1,  2,  3,\n",
       "        4,  5,  6,  7,  8,  9, 10, 11, 12, 13, 14, 15, 16, 17, 18, 19, 20,\n",
       "        0,  1,  2,  3,  4,  5,  6,  7,  8,  9, 10, 11, 12, 13, 14, 15, 16,\n",
       "       17, 18, 19, 20,  0,  1,  2,  3,  4,  5,  6,  7,  8,  9, 10, 11, 12,\n",
       "       13, 14, 15, 16, 17, 18, 19, 20,  0,  1,  2,  3,  4,  5,  6,  7,  8,\n",
       "        9, 10, 11, 12, 13, 14, 15, 16, 17, 18, 19, 20,  0,  1,  2,  3,  4,\n",
       "        5,  6,  7,  8,  9, 10, 11, 12, 13, 14, 15, 16, 17, 18, 19, 20])"
      ]
     },
     "execution_count": 114,
     "metadata": {},
     "output_type": "execute_result"
    }
   ],
   "source": [
    "train_catagory"
   ]
  },
  {
   "cell_type": "code",
   "execution_count": 115,
   "metadata": {},
   "outputs": [
    {
     "data": {
      "text/plain": [
       "[0.25406873390037404,\n",
       " 0.2410687214407665,\n",
       " 0.24626107660331206,\n",
       " 0.26101685198297714,\n",
       " 0.26228652242669304,\n",
       " 0.2733995906230143,\n",
       " 0.29201047936184,\n",
       " 0.2994242860282535,\n",
       " 0.315753478165324,\n",
       " 0.324566400126461,\n",
       " 0.33054723642042544,\n",
       " 0.31970293672242156,\n",
       " 0.3364319284831305,\n",
       " 0.334159908560673,\n",
       " 0.3234603201054376,\n",
       " 0.34483688589418315,\n",
       " 0.3509404384206537,\n",
       " 0.34077256865493344,\n",
       " 0.3455491706492769,\n",
       " 0.3378226232487549,\n",
       " 0.3512100282538429,\n",
       " 0.41185890258983965,\n",
       " 0.44300368342205804,\n",
       " 0.4845311414305459,\n",
       " 0.5182419262068454,\n",
       " 0.5498729979597181,\n",
       " 0.5505939361064427,\n",
       " 0.5514614660127294]"
      ]
     },
     "execution_count": 115,
     "metadata": {},
     "output_type": "execute_result"
    }
   ],
   "source": [
    "per_errors"
   ]
  },
  {
   "cell_type": "code",
   "execution_count": 116,
   "metadata": {},
   "outputs": [
    {
     "data": {
      "text/plain": [
       "[1.3968253968253967,\n",
       " 1.253968253968254,\n",
       " 1.2989417989417988,\n",
       " 1.3703703703703705,\n",
       " 1.3015873015873016,\n",
       " 1.343915343915344,\n",
       " 1.3941798941798942,\n",
       " 1.4285714285714286,\n",
       " 1.4497354497354498,\n",
       " 1.492063492063492,\n",
       " 1.462962962962963,\n",
       " 1.4550264550264551,\n",
       " 1.529100529100529,\n",
       " 1.4947089947089947,\n",
       " 1.447089947089947,\n",
       " 1.5264550264550265,\n",
       " 1.5687830687830688,\n",
       " 1.552910052910053,\n",
       " 1.5740740740740742,\n",
       " 1.5343915343915344,\n",
       " 1.5555555555555556,\n",
       " 1.5952380952380953,\n",
       " 1.619047619047619,\n",
       " 1.6719576719576719,\n",
       " 1.6904761904761905,\n",
       " 1.7513227513227514,\n",
       " 1.7513227513227514,\n",
       " 1.687830687830688]"
      ]
     },
     "execution_count": 116,
     "metadata": {},
     "output_type": "execute_result"
    }
   ],
   "source": [
    "errors"
   ]
  },
  {
   "cell_type": "code",
   "execution_count": null,
   "metadata": {},
   "outputs": [],
   "source": []
  },
  {
   "cell_type": "code",
   "execution_count": null,
   "metadata": {},
   "outputs": [],
   "source": []
  },
  {
   "cell_type": "code",
   "execution_count": null,
   "metadata": {},
   "outputs": [],
   "source": []
  },
  {
   "cell_type": "code",
   "execution_count": null,
   "metadata": {},
   "outputs": [],
   "source": []
  },
  {
   "cell_type": "code",
   "execution_count": null,
   "metadata": {},
   "outputs": [],
   "source": []
  },
  {
   "cell_type": "code",
   "execution_count": null,
   "metadata": {},
   "outputs": [],
   "source": []
  }
 ],
 "metadata": {
  "kernelspec": {
   "display_name": "Python 3",
   "language": "python",
   "name": "python3"
  },
  "language_info": {
   "codemirror_mode": {
    "name": "ipython",
    "version": 3
   },
   "file_extension": ".py",
   "mimetype": "text/x-python",
   "name": "python",
   "nbconvert_exporter": "python",
   "pygments_lexer": "ipython3",
   "version": "3.6.5"
  }
 },
 "nbformat": 4,
 "nbformat_minor": 2
}
