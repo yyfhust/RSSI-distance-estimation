{
 "cells": [
  {
   "cell_type": "code",
   "execution_count": 59,
   "metadata": {},
   "outputs": [],
   "source": [
    "import numpy as np\n",
    "import pandas as pd\n",
    "import scipy as sp\n",
    "import math\n",
    "from sklearn import tree\n",
    "from sklearn.metrics import precision_recall_curve\n",
    "from sklearn.metrics import classification_report\n",
    "from sklearn.cross_validation import train_test_split\n",
    "import csv\n",
    "from sklearn.model_selection import cross_val_score\n",
    "from sklearn.model_selection import cross_val_predict\n",
    "from sklearn.ensemble import RandomForestClassifier\n",
    "from sklearn.neighbors import KNeighborsClassifier"
   ]
  },
  {
   "cell_type": "code",
   "execution_count": 60,
   "metadata": {},
   "outputs": [],
   "source": [
    "csv_data = pd.read_csv(\"test&train_data.csv\")  "
   ]
  },
  {
   "cell_type": "code",
   "execution_count": 61,
   "metadata": {},
   "outputs": [],
   "source": [
    "decision_tree_errors=[]\n",
    "decision_tree_per_errors=[]\n",
    "forest_errors=[]\n",
    "forest_per_errors=[]\n",
    "KNN_errors=[]\n",
    "KNN_per_errors=[]\n",
    "for ii in range(1,22):\n",
    "    train_data=csv_data.iloc[0:2100,0:ii]\n",
    "    test_data=csv_data.iloc[2100:3000,0:ii]\n",
    "    t1=train_data.iloc[0:99,:]\n",
    "    t2=train_data.iloc[100:199,:]\n",
    "    t3=train_data.iloc[200:299,:]\n",
    "    t4=train_data.iloc[300:399,:]\n",
    "    t5=train_data.iloc[400:499,:]\n",
    "    t6=train_data.iloc[500:599,:]\n",
    "    t7=train_data.iloc[600:699,:]\n",
    "    t8=train_data.iloc[700:799,:]\n",
    "    t9=train_data.iloc[800:899,:]\n",
    "    t10=train_data.iloc[900:999,:]\n",
    "    t11=train_data.iloc[1000:1099,:]\n",
    "    t12=train_data.iloc[1100:1199,:]\n",
    "    t13=train_data.iloc[1200:1299,:]\n",
    "    t14=train_data.iloc[1300:1399,:]\n",
    "    t15=train_data.iloc[1400:1499,:]\n",
    "    t16=train_data.iloc[1500:1599,:]\n",
    "    t17=train_data.iloc[1600:1699,:]\n",
    "    t18=train_data.iloc[1700:1799,:]\n",
    "    t19=train_data.iloc[1800:1899,:]\n",
    "    t20=train_data.iloc[1900:1999,:]\n",
    "    t21=train_data.iloc[2000:2099,:]\n",
    "    \n",
    "    vector1=t1.describe().iloc[[1,2,3,7],:].T.values\n",
    "    vector2=t2.describe().iloc[[1,2,3,7],:].T.values\n",
    "    vector3=t3.describe().iloc[[1,2,3,7],:].T.values\n",
    "    vector4=t4.describe().iloc[[1,2,3,7],:].T.values\n",
    "    vector5=t5.describe().iloc[[1,2,3,7],:].T.values\n",
    "    vector6=t6.describe().iloc[[1,2,3,7],:].T.values\n",
    "    vector7=t7.describe().iloc[[1,2,3,7],:].T.values\n",
    "    vector8=t8.describe().iloc[[1,2,3,7],:].T.values\n",
    "    vector9=t9.describe().iloc[[1,2,3,7],:].T.values\n",
    "    vector10=t10.describe().iloc[[1,2,3,7],:].T.values\n",
    "    vector11=t11.describe().iloc[[1,2,3,7],:].T.values\n",
    "    vector12=t12.describe().iloc[[1,2,3,7],:].T.values\n",
    "    vector13=t13.describe().iloc[[1,2,3,7],:].T.values\n",
    "    vector14=t14.describe().iloc[[1,2,3,7],:].T.values\n",
    "    vector15=t15.describe().iloc[[1,2,3,7],:].T.values\n",
    "    vector16=t16.describe().iloc[[1,2,3,7],:].T.values\n",
    "    vector17=t17.describe().iloc[[1,2,3,7],:].T.values\n",
    "    vector18=t18.describe().iloc[[1,2,3,7],:].T.values\n",
    "    vector19=t19.describe().iloc[[1,2,3,7],:].T.values\n",
    "    vector20=t20.describe().iloc[[1,2,3,7],:].T.values\n",
    "    vector21=t21.describe().iloc[[1,2,3,7],:].T.values\n",
    "    \n",
    "    x1=np.vstack((vector1,vector2))\n",
    "    x2=np.vstack((x1,vector3))\n",
    "    x3=np.vstack((x2,vector4))\n",
    "    x4=np.vstack((x3,vector5))\n",
    "    x5=np.vstack((x4,vector6))\n",
    "    x6=np.vstack((x5,vector7))\n",
    "    x7=np.vstack((x6,vector8))\n",
    "    x8=np.vstack((x7,vector9))\n",
    "    x9=np.vstack((x8,vector10))\n",
    "    x10=np.vstack((x9,vector11))\n",
    "    x11=np.vstack((x10,vector12))\n",
    "    x12=np.vstack((x11,vector13))\n",
    "    x13=np.vstack((x12,vector14))\n",
    "    x14=np.vstack((x13,vector15))\n",
    "    x15=np.vstack((x14,vector16))\n",
    "    x16=np.vstack((x15,vector17))\n",
    "    x17=np.vstack((x16,vector18))\n",
    "    x18=np.vstack((x17,vector19))\n",
    "    x19=np.vstack((x18,vector20))\n",
    "    train_vectors=np.vstack((x19,vector21))\n",
    "\n",
    "    y=list(range(0,ii))*21\n",
    "    train_catagory=np.array(y)\n",
    "\n",
    "    t_vector1=test_data.iloc[0:99,:].describe().iloc[[1,2,3,7],:].T.values\n",
    "    t_vector2=test_data.iloc[100:199,:].describe().iloc[[1,2,3,7],:].T.values\n",
    "    t_vector3=test_data.iloc[200:299,:].describe().iloc[[1,2,3,7],:].T.values\n",
    "    t_vector4=test_data.iloc[300:399,:].describe().iloc[[1,2,3,7],:].T.values\n",
    "    t_vector5=test_data.iloc[400:499,:].describe().iloc[[1,2,3,7],:].T.values\n",
    "    t_vector6=test_data.iloc[500:599,:].describe().iloc[[1,2,3,7],:].T.values\n",
    "    t_vector7=test_data.iloc[600:699,:].describe().iloc[[1,2,3,7],:].T.values\n",
    "    t_vector8=test_data.iloc[700:799,:].describe().iloc[[1,2,3,7],:].T.values\n",
    "    t_vector9=test_data.iloc[800:899,:].describe().iloc[[1,2,3,7],:].T.values\n",
    "\n",
    "\n",
    "\n",
    "    x1=np.vstack((t_vector1,t_vector2))\n",
    "    x2=np.vstack((x1,t_vector3))\n",
    "    x3=np.vstack((x2,t_vector4))\n",
    "    x4=np.vstack((x3,t_vector5))\n",
    "    x5=np.vstack((x4,t_vector6))\n",
    "    x6=np.vstack((x5,t_vector7))\n",
    "    x7=np.vstack((x6,t_vector8))\n",
    "\n",
    "    test_vectors=np.vstack((x7,t_vector9))\n",
    "\n",
    "    y=list(range(0,ii))*9\n",
    "    test_catagory=np.array(y)\n",
    "\n",
    "    f=tree.DecisionTreeClassifier(criterion='gini')\n",
    "    f.fit(train_vectors,train_catagory)\n",
    "    prediction=f.predict(test_vectors)\n",
    "    decision_tree_error=sum(abs(prediction-test_catagory)*0.5)/(9*ii)\n",
    "    decision_tree_errors.append(decision_tree_error)\n",
    "    decision_tree_per_error=sum(np.true_divide(abs(prediction-test_catagory),test_catagory+0.00000001))/ (9*ii)\n",
    "    decision_tree_per_errors.append(decision_tree_per_error)\n",
    "    \n",
    "    \n",
    "    R = RandomForestClassifier(n_jobs=9)\n",
    "    R.fit(train_vectors,train_catagory)\n",
    "    prediction=R.predict(test_vectors)\n",
    "    forest_error=sum(abs(prediction-test_catagory)*0.5)/(9*ii)\n",
    "    forest_errors.append(forest_error)\n",
    "    forest_per_error=sum( np.true_divide(abs(prediction-test_catagory),test_catagory+0.00000001)   )   / (9*ii)\n",
    "    forest_per_errors.append(forest_per_error)\n",
    "    \n",
    "    K=KNeighborsClassifier(n_neighbors=3)\n",
    "    K.fit(train_vectors,train_catagory)\n",
    "    prediction=K.predict(test_vectors)\n",
    "    KNN_error=sum(abs(prediction-test_catagory)*0.5)/(9*ii)\n",
    "    KNN_errors.append(KNN_error)\n",
    "    KNN_per_error=sum( np.true_divide(abs(prediction-test_catagory),test_catagory+0.00000001)   )   / (9*ii)\n",
    "    KNN_per_errors.append(KNN_per_error)   \n",
    "    "
   ]
  },
  {
   "cell_type": "code",
   "execution_count": null,
   "metadata": {},
   "outputs": [],
   "source": []
  },
  {
   "cell_type": "code",
   "execution_count": null,
   "metadata": {},
   "outputs": [],
   "source": []
  },
  {
   "cell_type": "code",
   "execution_count": null,
   "metadata": {},
   "outputs": [],
   "source": []
  },
  {
   "cell_type": "code",
   "execution_count": 62,
   "metadata": {},
   "outputs": [
    {
     "data": {
      "text/plain": [
       "[0.0,\n",
       " 0.0,\n",
       " 0.015873015873015872,\n",
       " 0.011904761904761904,\n",
       " 0.047619047619047616,\n",
       " 0.1349206349206349,\n",
       " 0.29931972789115646,\n",
       " 0.27976190476190477,\n",
       " 0.3333333333333333,\n",
       " 0.3952380952380952,\n",
       " 0.5714285714285714,\n",
       " 0.47619047619047616,\n",
       " 0.5274725274725275,\n",
       " 0.673469387755102,\n",
       " 0.6063492063492063,\n",
       " 0.7619047619047619,\n",
       " 0.834733893557423,\n",
       " 0.9259259259259259,\n",
       " 0.9799498746867168,\n",
       " 1.0142857142857142,\n",
       " 1.0204081632653061]"
      ]
     },
     "execution_count": 62,
     "metadata": {},
     "output_type": "execute_result"
    }
   ],
   "source": [
    "forest_errors"
   ]
  },
  {
   "cell_type": "code",
   "execution_count": 63,
   "metadata": {},
   "outputs": [
    {
     "data": {
      "text/plain": [
       "[0.0,\n",
       " 0.0,\n",
       " 0.018518518518518517,\n",
       " 0.013888888888888888,\n",
       " 0.06666666666666667,\n",
       " 0.2222222222222222,\n",
       " 0.36507936507936506,\n",
       " 0.3472222222222222,\n",
       " 0.3148148148148148,\n",
       " 0.6388888888888888,\n",
       " 0.6262626262626263,\n",
       " 0.6064814814814815,\n",
       " 0.811965811965812,\n",
       " 0.6746031746031746,\n",
       " 0.8222222222222222,\n",
       " 0.9583333333333334,\n",
       " 0.9281045751633987,\n",
       " 0.904320987654321,\n",
       " 1.108187134502924,\n",
       " 1.1111111111111112,\n",
       " 1.335978835978836]"
      ]
     },
     "execution_count": 63,
     "metadata": {},
     "output_type": "execute_result"
    }
   ],
   "source": [
    "decision_tree_errors"
   ]
  },
  {
   "cell_type": "code",
   "execution_count": 64,
   "metadata": {},
   "outputs": [
    {
     "data": {
      "text/plain": [
       "[0.0,\n",
       " 0.0,\n",
       " 0.018518518518518517,\n",
       " 0.013888888888888888,\n",
       " 0.05555555555555555,\n",
       " 0.08333333333333333,\n",
       " 0.2857142857142857,\n",
       " 0.3958333333333333,\n",
       " 0.41975308641975306,\n",
       " 0.6222222222222222,\n",
       " 0.6414141414141414,\n",
       " 0.6296296296296297,\n",
       " 0.7051282051282052,\n",
       " 0.8373015873015873,\n",
       " 0.8777777777777778,\n",
       " 1.0277777777777777,\n",
       " 1.026143790849673,\n",
       " 1.123456790123457,\n",
       " 1.3011695906432748,\n",
       " 1.1888888888888889,\n",
       " 1.253968253968254]"
      ]
     },
     "execution_count": 64,
     "metadata": {},
     "output_type": "execute_result"
    }
   ],
   "source": [
    "KNN_errors"
   ]
  },
  {
   "cell_type": "code",
   "execution_count": null,
   "metadata": {},
   "outputs": [],
   "source": []
  },
  {
   "cell_type": "code",
   "execution_count": null,
   "metadata": {},
   "outputs": [],
   "source": []
  },
  {
   "cell_type": "code",
   "execution_count": null,
   "metadata": {},
   "outputs": [],
   "source": []
  },
  {
   "cell_type": "code",
   "execution_count": null,
   "metadata": {},
   "outputs": [],
   "source": []
  },
  {
   "cell_type": "code",
   "execution_count": null,
   "metadata": {},
   "outputs": [],
   "source": []
  },
  {
   "cell_type": "code",
   "execution_count": null,
   "metadata": {},
   "outputs": [],
   "source": []
  }
 ],
 "metadata": {
  "kernelspec": {
   "display_name": "Python 3",
   "language": "python",
   "name": "python3"
  },
  "language_info": {
   "codemirror_mode": {
    "name": "ipython",
    "version": 3
   },
   "file_extension": ".py",
   "mimetype": "text/x-python",
   "name": "python",
   "nbconvert_exporter": "python",
   "pygments_lexer": "ipython3",
   "version": "3.6.5"
  }
 },
 "nbformat": 4,
 "nbformat_minor": 2
}
